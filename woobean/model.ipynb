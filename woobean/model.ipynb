{
 "cells": [
  {
   "cell_type": "code",
   "execution_count": 44,
   "metadata": {},
   "outputs": [
    {
     "ename": "ModuleNotFoundError",
     "evalue": "No module named 'torch'",
     "output_type": "error",
     "traceback": [
      "\u001b[0;31m---------------------------------------------------------------------------\u001b[0m",
      "\u001b[0;31mModuleNotFoundError\u001b[0m                       Traceback (most recent call last)",
      "\u001b[0;32m<ipython-input-44-7fb0f29e3c3f>\u001b[0m in \u001b[0;36m<module>\u001b[0;34m\u001b[0m\n\u001b[1;32m     21\u001b[0m \u001b[0;32mimport\u001b[0m \u001b[0mscipy\u001b[0m\u001b[0;34m.\u001b[0m\u001b[0mio\u001b[0m \u001b[0;32mas\u001b[0m \u001b[0msio\u001b[0m\u001b[0;34m\u001b[0m\u001b[0;34m\u001b[0m\u001b[0m\n\u001b[1;32m     22\u001b[0m \u001b[0;32mimport\u001b[0m \u001b[0mtqdm\u001b[0m\u001b[0;34m\u001b[0m\u001b[0;34m\u001b[0m\u001b[0m\n\u001b[0;32m---> 23\u001b[0;31m \u001b[0;32mfrom\u001b[0m \u001b[0mtorch\u001b[0m\u001b[0;34m.\u001b[0m\u001b[0mutils\u001b[0m\u001b[0;34m.\u001b[0m\u001b[0mdata\u001b[0m \u001b[0;32mimport\u001b[0m \u001b[0mDataset\u001b[0m\u001b[0;34m\u001b[0m\u001b[0;34m\u001b[0m\u001b[0m\n\u001b[0m",
      "\u001b[0;31mModuleNotFoundError\u001b[0m: No module named 'torch'"
     ]
    }
   ],
   "source": [
    "####### module import \n",
    "import pandas as pd \n",
    "import numpy as np \n",
    "import matplotlib.pyplot as plt\n",
    "# import seaborn as sns\n",
    "# Suppress Deprecation and Incorrect Usage Warnings \n",
    "import warnings\n",
    "import scipy.io as sio \n",
    "import os\n",
    "import scipy.signal as signal\n",
    "import numpy as np\n",
    "from sklearn.model_selection import train_test_split\n",
    "from sklearn.preprocessing import StandardScaler, Normalizer , MinMaxScaler\n",
    "from sklearn.decomposition import PCA\n",
    "warnings.filterwarnings('ignore')\n",
    "import copy\n",
    "import scipy.signal as signal\n",
    "import scipy.stats as stats\n",
    "import scipy.io as sio\n",
    "import tqdm\n",
    "from torch.utils.data import Dataset"
   ]
  },
  {
   "cell_type": "code",
   "execution_count": 45,
   "metadata": {},
   "outputs": [],
   "source": [
    "data = np.load('./data/1.0.npy')"
   ]
  },
  {
   "cell_type": "code",
   "execution_count": 46,
   "metadata": {},
   "outputs": [
    {
     "data": {
      "text/plain": [
       "(5, 2400)"
      ]
     },
     "execution_count": 46,
     "metadata": {},
     "output_type": "execute_result"
    }
   ],
   "source": [
    "data.shape"
   ]
  },
  {
   "cell_type": "code",
   "execution_count": 48,
   "metadata": {},
   "outputs": [
    {
     "data": {
      "text/plain": [
       "array([14.66085519, 14.65925504, 14.64617424, ..., 14.18128998,\n",
       "       14.18512493, 14.20130588])"
      ]
     },
     "execution_count": 48,
     "metadata": {},
     "output_type": "execute_result"
    }
   ],
   "source": [
    "data[0,:]"
   ]
  },
  {
   "cell_type": "code",
   "execution_count": 49,
   "metadata": {},
   "outputs": [
    {
     "data": {
      "text/plain": [
       "array([[1.08278797e-05, 5.53920174e-06, 2.29579565e-06, ...,\n",
       "        5.24512813e-08, 4.68298894e-07, 3.39861850e-07],\n",
       "       [3.57938324e-05, 4.82053202e-05, 1.87760579e-07, ...,\n",
       "        3.52065664e-04, 1.30183380e-04, 3.60864259e-04],\n",
       "       [7.26301702e-05, 2.06384163e-04, 2.00519167e-05, ...,\n",
       "        1.08884221e-03, 4.47711797e-04, 1.11777081e-03],\n",
       "       ...,\n",
       "       [1.79993368e-08, 1.76072544e-07, 1.20783217e-07, ...,\n",
       "        7.49058838e-08, 2.71896835e-08, 1.36127625e-08],\n",
       "       [5.34422544e-08, 2.48106291e-07, 8.28063885e-08, ...,\n",
       "        4.46004132e-08, 4.71601249e-08, 6.88080692e-09],\n",
       "       [3.57734101e-08, 1.38451283e-07, 3.18002008e-08, ...,\n",
       "        1.33314176e-08, 2.77322118e-08, 2.99547607e-09]])"
      ]
     },
     "execution_count": 49,
     "metadata": {},
     "output_type": "execute_result"
    }
   ],
   "source": [
    "_,_, spec_data = signal.spectrogram(data[0,:],fs=1200,nperseg=256,noverlap=128,nfft=1024)\n",
    "spec_data"
   ]
  },
  {
   "cell_type": "code",
   "execution_count": 40,
   "metadata": {},
   "outputs": [
    {
     "data": {
      "text/plain": [
       "[<matplotlib.lines.Line2D at 0x7fd89694a4e0>]"
      ]
     },
     "execution_count": 40,
     "metadata": {},
     "output_type": "execute_result"
    },
    {
     "data": {
      "image/png": "[encoded data removed]",
      "text/plain": [
       "<Figure size 432x288 with 1 Axes>"
      ]
     },
     "metadata": {
      "needs_background": "light"
     },
     "output_type": "display_data"
    }
   ],
   "source": [
    "\n",
    "class Dataset(Dataset):\n",
    "    def __init__(self, path):\n",
    "        self.path = path\n",
    "        if self.path[-1] != '/':\n",
    "            self.path += '/'        \n",
    "        self.df = pd.read_csv(self.path + 'segments.csv')\n",
    "        self.NFFF = 200\n",
    "\n",
    "    def __len__(self):\n",
    "        return len(self.df)\n",
    "\n",
    "    def __getitem__(self, idx):\n",
    "        sid = self.df.iloc[idx]['segment_id']\n",
    "        target = self.df.iloc[idx]['category_id']\n",
    "        data = sio.loadmat(self.path+'{}'.format(sid))['data']\n",
    "        _,_, data = signal.spectrogram(data[0,:],fs=5000,nperseg=256,noverlap=128,nfft=1024)\n",
    "\n",
    "        data = data[:self.NFFF,:]\n",
    "        data = stats.zscore(data,axis=1)\n",
    "        data = np.expand_dims(data,axis=0)\n",
    "        return data,target\n",
    "        \n",
    "    def split_reviewer(self, reviewer_id):\n",
    "        train = copy.deepcopy(self)\n",
    "        valid = copy.deepcopy(self)\n",
    "\n",
    "        idx = self.df['reviewer_id']!=reviewer_id\n",
    "\n",
    "        train.df = train.df[idx].reset_index(drop=True)\n",
    "        valid.df = valid.df[np.logical_not(idx)].reset_index(drop=True)\n",
    "        return train, valid\n",
    "\n"
   ]
  },
  {
   "cell_type": "code",
   "execution_count": null,
   "metadata": {},
   "outputs": [],
   "source": []
  },
  {
   "cell_type": "code",
   "execution_count": null,
   "metadata": {},
   "outputs": [],
   "source": []
  }
 ],
 "metadata": {
  "kernelspec": {
   "display_name": "Python 3",
   "language": "python",
   "name": "python3"
  },
  "language_info": {
   "codemirror_mode": {
    "name": "ipython",
    "version": 3
   },
   "file_extension": ".py",
   "mimetype": "text/x-python",
   "name": "python",
   "nbconvert_exporter": "python",
   "pygments_lexer": "ipython3",
   "version": "3.6.8"
  }
 },
 "nbformat": 4,
 "nbformat_minor": 4
}
