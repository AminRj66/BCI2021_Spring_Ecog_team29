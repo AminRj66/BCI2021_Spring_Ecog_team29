{
  "nbformat": 4,
  "nbformat_minor": 0,
  "metadata": {
    "colab": {
      "name": "Sentiment_Binance_v2.ipynb",
      "provenance": [],
      "collapsed_sections": [],
      "authorship_tag": "ABX9TyPyo2pgZNS9ptAaxWrws/q4",
      "include_colab_link": true
    },
    "kernelspec": {
      "name": "python3",
      "display_name": "Python 3"
    },
    "language_info": {
      "name": "python"
    }
  },
  "cells": [
    {
      "cell_type": "markdown",
      "metadata": {
        "id": "view-in-github",
        "colab_type": "text"
      },
      "source": [
        "<a href=\"https://colab.research.google.com/github/AminRj66/BCI2021_Spring_Ecog_team29/blob/master/Sentiment_Binance_v2.ipynb\" target=\"_parent\"><img src=\"https://colab.research.google.com/assets/colab-badge.svg\" alt=\"Open In Colab\"/></a>"
      ]
    },
    {
      "cell_type": "code",
      "metadata": {
        "id": "hoyK07PU7hPB"
      },
      "source": [
        "!pip install python-binance"
      ],
      "execution_count": null,
      "outputs": []
    },
    {
      "cell_type": "code",
      "metadata": {
        "id": "W9NLCZCx7Eh-"
      },
      "source": [
        "from binance.client import Client\n",
        "import datetime\n",
        "import time\n",
        "import pandas as pd\n",
        "import numpy as np\n",
        "import json\n",
        "import logging\n",
        "\n",
        "config = json.load(open(\"config/binance_conf.json\"))\n",
        "api_key = config[\"APIKey\"]\n",
        "secret_key = config[\"secretKey\"]\n",
        "update_interval = config[\"updateInterval\"]\n",
        "interval_type = config[\"intervalType\"]\n",
        "contractType = config[\"contractType\"]\n",
        "pair = config[\"Pair\"]\n",
        "timeframe = config[\"timeFrame\"]\n",
        "limit = config[\"limit\"]\n",
        "max_retries = config[\"maxRetries\"]\n",
        "delay = config[\"retry_delay\"]\n",
        "\n",
        "\n",
        "def make_connection(api_key, secrect_key, logger, maxRetries, retry_delay):\n",
        "  num_retries = 0\n",
        "  while True:\n",
        "    try:\n",
        "      num_retries +=1\n",
        "      print('Attempting to connect...')\n",
        "      myclient = Client(api_key, secrect_key)\n",
        "      print('Connection established.')\n",
        "      return myclient\n",
        "    except Exception as e:\n",
        "      print('Connection failed.')\n",
        "      logger.error('error in making connection.')\n",
        "      logger.error(str(e))\n",
        "      if num_retries > maxRetries:\n",
        "        raise\n",
        "      time.sleep(retry_delay)\n",
        "\n",
        "def request_binance(client, pair, param1, param2, param3, logger, maxRetries, retry_delay):\n",
        "  num_retries = 0\n",
        "  while True:\n",
        "    try:\n",
        "      if pair[-4:] == 'USDT':\n",
        "        oih = client._request_futures_data_api('get', 'openInterestHist', data=param1)\n",
        "        oih_ext = np.array([np.array([datetime.datetime.fromtimestamp(item['timestamp']/1000).strftime('%Y-%m-%d %H:%M:%S'),\\\n",
        "                          item['timestamp'], item['sumOpenInterest'], item['sumOpenInterestValue']]) for item in oih])\n",
        "      \n",
        "        lsh = client._request_futures_data_api('get', '/globalLongShortAccountRatio', data=param1)\n",
        "        lsh_ext = np.array([np.array([datetime.datetime.fromtimestamp(item['timestamp']/1000).strftime('%Y-%m-%d %H:%M:%S'),\\\n",
        "                          item['timestamp'], item['longShortRatio'], item['longAccount'], item['shortAccount']]) for item in lsh])\n",
        "      \n",
        "        shp = client._request_futures_data_api('get', '/topLongShortPositionRatio', data=param1)\n",
        "        shp_ext = np.array([np.array([datetime.datetime.fromtimestamp(item['timestamp']/1000).strftime('%Y-%m-%d %H:%M:%S'),\\\n",
        "                          item['timestamp'], item['longShortRatio'], item['longAccount'], item['shortAccount']]) for item in shp])\n",
        "      \n",
        "        sha = client._request_futures_data_api('get', '/topLongShortAccountRatio', data=param1)\n",
        "        sha_ext = np.array([np.array([datetime.datetime.fromtimestamp(item['timestamp']/1000).strftime('%Y-%m-%d %H:%M:%S'),\\\n",
        "                          item['timestamp'], item['longShortRatio'], item['longAccount'], item['shortAccount']]) for item in sha])\n",
        "      else:\n",
        "        oih = client.futures_coin_open_interest_hist(**param3)\n",
        "        oih_ext = np.array([np.array([datetime.datetime.fromtimestamp(item['timestamp'] / 1000).strftime('%Y-%m-%d %H:%M:%S'), \\\n",
        "                          item['timestamp'], item['sumOpenInterest'], item['sumOpenInterestValue']]) for item in oih])\n",
        "\n",
        "        lsh = client._request_futures_coin_data_api(\"get\", \"globalLongShortAccountRatio\", data=param2)\n",
        "        lsh_ext = np.array([np.array([datetime.datetime.fromtimestamp(item['timestamp'] / 1000).strftime('%Y-%m-%d %H:%M:%S'), \\\n",
        "                          item['timestamp'], item['longShortRatio'], item['longAccount'], item['shortAccount']]) for item in lsh])\n",
        "\n",
        "        shp = client._request_futures_coin_data_api(\"get\", \"topLongShortPositionRatio\", data=param2)\n",
        "        shp_ext = np.array([np.array([datetime.datetime.fromtimestamp(item['timestamp'] / 1000).strftime('%Y-%m-%d %H:%M:%S'), \\\n",
        "                          item['timestamp'], item['longShortRatio'], item['longPosition'], item['shortPosition']]) for item in shp])\n",
        "\n",
        "        sha = client._request_futures_coin_data_api(\"get\", \"topLongShortAccountRatio\", data=param2)\n",
        "        sha_ext = np.array([np.array([datetime.datetime.fromtimestamp(item['timestamp'] / 1000).strftime('%Y-%m-%d %H:%M:%S'), \\\n",
        "                          item['timestamp'], item['longShortRatio'], item['longAccount'], item['shortAccount']]) for item in sha])\n",
        "\n",
        "      data = np.hstack([oih_ext, lsh_ext[:,2:], shp_ext[:,2:], sha_ext[:,2:]])\n",
        "      df = pd.DataFrame(data, columns=['DateTime', 'TimeStamp', 'sumOpenInterest', 'sumOpenInterestValue', 'globalLongShortAcc', 'globalLongAcc',\\\n",
        "                          'globalShortAcc','topLongShortPos','topLongPos', 'topShortPos', 'topLongShortAcc', 'topLongAcc', 'topShortAcc'])\n",
        "      return df\n",
        "    except Exception as e:\n",
        "      print('Reading failed.')\n",
        "      logger.error('Error in binance reading sentiment.')\n",
        "      logger.error(str(e))\n",
        "      if num_retries > maxRetries:\n",
        "        raise\n",
        "      time.sleep(retry_delay)\n",
        "\n",
        "\n",
        "def get_market_sentiment(myclient, updateInterval, intervalType, contract, pair, logger, maxRetries, timeFrame, limit, retry_delay):\n",
        "  t_lastUpdate = datetime.datetime(2020,1,1,0,0,0,0)\n",
        "  read = 0\n",
        "  param1 = {'symbol': pair, 'period' : timeFrame, 'limit':limit}\n",
        "  param2 = {'pair': pair, 'period': timeFrame, 'limit': limit}\n",
        "  param3 = {'pair': pair, 'contractType': contract, 'period': timeFrame, 'limit': limit}\n",
        "  \n",
        "  if intervalType == 'min':\n",
        "    delta = datetime.timedelta(minutes = updateInterval)\n",
        "  else:\n",
        "    delta = datetime.timedelta(hours = updateInterval)\n",
        "\n",
        "  while True:\n",
        "    t_now = datetime.datetime.now()\n",
        "    if t_now - t_lastUpdate >= delta:\n",
        "      df0 = request_binance(client = myclient, pair = pair, param1 = param1, param2 = param2, param3 = param3, logger = logger, maxRetries=maxRetries, retry_delay = retry_delay)\n",
        "      read+=1\n",
        "      if read == 1:\n",
        "        mydf = df0\n",
        "      else:\n",
        "        mydf = pd.concat([mydf,df0]).drop_duplicates(subset ='TimeStamp', keep='first')\n",
        "      \n",
        "      mydf.to_csv(f'content/sentiment_{pair}.csv', index=False)\n",
        "      print(f\"{pair} sentiment reading no.{read} is done: Current update time is {t_now}\")\n",
        "      t_lastUpdate = t_now\n",
        "    else:\n",
        "      time.sleep(5*60)\n",
        "  return mydf\n",
        "\n",
        "\n",
        "logging.basicConfig(filename=\"log/log.log\", format='[%(asctime)s][%(levelname)s]: %(message)s',\\\n",
        "                    filemode='a', datefmt='%Y-%m-%d %H:%M:%S', level=logging.INFO)\n",
        "logger = logging.getLogger()\n",
        "\n",
        "client = make_connection(api_key, secret_key, logger=logger, maxRetries=max_retries, retry_delay = delay)\n",
        "\n",
        "df = get_market_sentiment(myclient=client, updateInterval=update_interval, intervalType=interval_type, contract=contractType,\\\n",
        "          pair=pair, logger = logger, maxRetries = max_retries, timeFrame=timeframe, limit=limit, retry_delay = delay)\n"
      ],
      "execution_count": null,
      "outputs": []
    },
    {
      "cell_type": "code",
      "metadata": {
        "id": "QpTwJl9D1RYY"
      },
      "source": [
        "!git init\n",
        "!git config — global user.email “amin.ranjbar1988@gmail.com”\n",
        "!git config — global user.name “AminRj66”"
      ],
      "execution_count": null,
      "outputs": []
    },
    {
      "cell_type": "code",
      "metadata": {
        "colab": {
          "base_uri": "https://localhost:8080/"
        },
        "id": "OJ6iI1RI74bS",
        "outputId": "6e7e4afe-8f9e-43d2-f84d-0c0ece71a07e"
      },
      "source": [
        "!git remote add origin https://github.com/AIBOXIA/AIT-fetching_binance_sentiment.git\n",
        "!git push -u origin main"
      ],
      "execution_count": 22,
      "outputs": [
        {
          "output_type": "stream",
          "text": [
            "fatal: remote origin already exists.\n",
            "error: src refspec main does not match any.\n",
            "error: failed to push some refs to 'https://github.com/AIBOXIA/AIT-fetching_binance_sentiment.git'\n"
          ],
          "name": "stdout"
        }
      ]
    }
  ]
}